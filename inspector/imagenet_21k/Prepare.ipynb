{
 "cells": [
  {
   "cell_type": "code",
   "execution_count": null,
   "id": "872c1a38-3cae-47c2-844b-e46eb364bb68",
   "metadata": {},
   "outputs": [],
   "source": [
    "!wget https://storage.googleapis.com/bit_models/imagenet21k_wordnet_ids.txt\n",
    "!wget https://storage.googleapis.com/bit_models/imagenet21k_wordnet_lemmas.txt"
   ]
  },
  {
   "cell_type": "code",
   "execution_count": null,
   "id": "278ad805-af37-4dd4-a1a2-c5c1f1dce6e4",
   "metadata": {},
   "outputs": [],
   "source": [
    "!apt-get install -y aria2"
   ]
  },
  {
   "cell_type": "code",
   "execution_count": null,
   "id": "a0147a33-84f2-4742-b9a4-83d66c4e9b8b",
   "metadata": {},
   "outputs": [],
   "source": [
    "#downloading imagenet 21k\n",
    "# https://academictorrents.com/details/8ec0d8df0fbb507594557bce993920442f4f6477\n",
    "!aria2c https://academictorrents.com/download/8ec0d8df0fbb507594557bce993920442f4f6477.torrent"
   ]
  },
  {
   "cell_type": "code",
   "execution_count": null,
   "id": "b5868949-ee08-4545-9bdb-4b73cbc0162b",
   "metadata": {},
   "outputs": [],
   "source": [
    "!tar xvf winter21_whole.tar.gz # download imagenet21k (>1 TB!), takes a long time"
   ]
  },
  {
   "cell_type": "code",
   "execution_count": null,
   "id": "d342f7c9-a404-4278-8794-663f035fd0c2",
   "metadata": {},
   "outputs": [],
   "source": [
    "!rm winter21_whole.tar.gz # takes a long time"
   ]
  },
  {
   "cell_type": "code",
   "execution_count": null,
   "id": "e90b721a-c4d7-48d3-baf3-1e299b08dfce",
   "metadata": {},
   "outputs": [],
   "source": [
    "!python count.py # counts instances of all classes, takes a long time"
   ]
  },
  {
   "cell_type": "code",
   "execution_count": 2,
   "id": "e08eaa5a-6167-4f65-b24f-cece339fb53e",
   "metadata": {},
   "outputs": [
    {
     "name": "stdout",
     "output_type": "stream",
     "text": [
      "8"
     ]
    }
   ],
   "source": [
    "!cat winter21_whole/n00004475_count.txt"
   ]
  },
  {
   "cell_type": "code",
   "execution_count": 3,
   "id": "1390c26a-583e-4753-aa90-488e425b68df",
   "metadata": {},
   "outputs": [],
   "source": [
    "imagenet_classes = dict(zip(\n",
    "    open('imagenet21k_wordnet_ids.txt').read().split('\\n'),\n",
    "    open('imagenet21k_wordnet_lemmas.txt').read().split('\\n')\n",
    "))"
   ]
  },
  {
   "cell_type": "code",
   "execution_count": 7,
   "id": "70eb33b9-7550-4b2d-94f6-ac757e102929",
   "metadata": {},
   "outputs": [
    {
     "name": "stderr",
     "output_type": "stream",
     "text": [
      "100%|███████████████████████████████████| 21844/21844 [00:05<00:00, 3694.67it/s]\n"
     ]
    }
   ],
   "source": [
    "from tqdm import tqdm\n",
    "\n",
    "counts = {}\n",
    "for code, cls_name in tqdm(imagenet_classes.items()):\n",
    "    try:\n",
    "        with open(f'winter21_whole/{code}_count.txt') as f:\n",
    "            counts[cls_name] = int(f.read())\n",
    "    except:\n",
    "        counts[cls_name] = 0"
   ]
  },
  {
   "cell_type": "code",
   "execution_count": 16,
   "id": "99c0e440-0ceb-491f-852a-26696389091d",
   "metadata": {},
   "outputs": [],
   "source": [
    "df = pd.DataFrame({'category': counts.keys(), 'count': counts.values()})\n",
    "df = df.iloc[:-1] #last line is empty for some reason"
   ]
  },
  {
   "cell_type": "code",
   "execution_count": 18,
   "id": "8d8d350c-86a3-4ab8-ad1c-b20683e5413e",
   "metadata": {},
   "outputs": [],
   "source": [
    "df.to_csv('category_counts.csv')"
   ]
  },
  {
   "cell_type": "code",
   "execution_count": 19,
   "id": "14853187-c7b1-4bd8-bb19-ae7f1f916b42",
   "metadata": {},
   "outputs": [],
   "source": [
    "!rm -r winter21_whole"
   ]
  }
 ],
 "metadata": {
  "kernelspec": {
   "display_name": "Python 3 (ipykernel)",
   "language": "python",
   "name": "python3"
  },
  "language_info": {
   "codemirror_mode": {
    "name": "ipython",
    "version": 3
   },
   "file_extension": ".py",
   "mimetype": "text/x-python",
   "name": "python",
   "nbconvert_exporter": "python",
   "pygments_lexer": "ipython3",
   "version": "3.8.10"
  }
 },
 "nbformat": 4,
 "nbformat_minor": 5
}
