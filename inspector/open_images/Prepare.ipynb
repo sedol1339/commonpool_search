{
 "cells": [
  {
   "cell_type": "code",
   "execution_count": null,
   "id": "c05b87c3-5ca8-4411-a890-bafcfd928766",
   "metadata": {},
   "outputs": [],
   "source": [
    "!wget https://storage.googleapis.com/openimages/v7/oidv7-train-annotations-human-imagelabels.csv"
   ]
  },
  {
   "cell_type": "code",
   "execution_count": null,
   "id": "97a0da04-b642-4db4-a34e-3178668116f0",
   "metadata": {},
   "outputs": [],
   "source": [
    "import pandas as pd\n",
    "df = pd.read_csv('oidv7-train-annotations-human-imagelabels.csv')"
   ]
  },
  {
   "cell_type": "code",
   "execution_count": null,
   "id": "bf53e2da-7296-42f2-9fca-7421549ffb3f",
   "metadata": {},
   "outputs": [],
   "source": [
    "!wget https://storage.googleapis.com/openimages/v7/oidv7-class-descriptions.csv"
   ]
  },
  {
   "cell_type": "code",
   "execution_count": null,
   "id": "f613e41a-7f98-4dcf-a190-c712f92243bc",
   "metadata": {},
   "outputs": [],
   "source": [
    "tmp = pd.read_csv('oidv7-class-descriptions.csv')\n",
    "code_to_classname = dict(zip(tmp.LabelName, tmp.DisplayName))\n",
    "code_to_classname"
   ]
  },
  {
   "cell_type": "code",
   "execution_count": null,
   "id": "91668b18-a534-4fea-8884-5ed05d9d6705",
   "metadata": {},
   "outputs": [],
   "source": [
    "counts = df.LabelName.value_counts()\n",
    "counts = {code_to_classname[x]: y for x, y in dict(counts).items()}\n",
    "pd.DataFrame({'class': counts.keys(), 'count': counts.values()}) \\\n",
    "    .to_csv('human_verified_image_labels_class_counts.csv')"
   ]
  },
  {
   "cell_type": "code",
   "execution_count": null,
   "id": "3c75c9bf-2939-46f3-bdb3-7c7cad1591fe",
   "metadata": {},
   "outputs": [],
   "source": [
    "!wget https://storage.googleapis.com/openimages/v7/oidv7-train-annotations-machine-imagelabels.csv"
   ]
  },
  {
   "cell_type": "code",
   "execution_count": null,
   "id": "e9fce7e7-6b19-405e-9218-dc8485536f62",
   "metadata": {},
   "outputs": [],
   "source": [
    "import pandas as pd\n",
    "df = pd.read_csv('oidv7-train-annotations-machine-imagelabels.csv', usecols=['LabelName'])"
   ]
  },
  {
   "cell_type": "code",
   "execution_count": null,
   "id": "17d7b3c0-287b-435c-8807-f089becf4600",
   "metadata": {},
   "outputs": [],
   "source": [
    "counts = df.LabelName.value_counts()\n",
    "counts = {code_to_classname[x]: y for x, y in dict(counts).items()}\n",
    "pd.DataFrame({'class': counts.keys(), 'count': counts.values()}) \\\n",
    "    .to_csv('machine_generated_image_labels_class_counts.csv')"
   ]
  },
  {
   "cell_type": "code",
   "execution_count": null,
   "id": "ddb31d32-6ab3-4e78-8546-09257d205a9e",
   "metadata": {},
   "outputs": [],
   "source": [
    "!wget https://storage.googleapis.com/openimages/v6/oidv6-train-annotations-bbox.csv"
   ]
  },
  {
   "cell_type": "code",
   "execution_count": null,
   "id": "6eb67783-6be1-4329-b43e-3ee19dafa7f3",
   "metadata": {},
   "outputs": [],
   "source": [
    "import pandas as pd\n",
    "df = pd.read_csv('oidv6-train-annotations-bbox.csv', usecols=['LabelName'])"
   ]
  },
  {
   "cell_type": "code",
   "execution_count": null,
   "id": "fadfe32e-fa58-4dc8-9e76-9d1c498d4978",
   "metadata": {},
   "outputs": [],
   "source": [
    "counts = df.LabelName.value_counts()\n",
    "counts = {code_to_classname[x]: y for x, y in dict(counts).items()}\n",
    "pd.DataFrame({'class': counts.keys(), 'count': counts.values()}) \\\n",
    "    .to_csv('box_annotations_class_counts.csv')"
   ]
  },
  {
   "cell_type": "code",
   "execution_count": null,
   "id": "3e134ce1-02df-41d8-8b23-7674a6752fbd",
   "metadata": {},
   "outputs": [],
   "source": [
    "!wget https://storage.googleapis.com/openimages/v7/oidv7-train-annotations-point-labels.csv"
   ]
  },
  {
   "cell_type": "code",
   "execution_count": null,
   "id": "1f2ce6ca-aa62-41bd-87b4-4630aa971851",
   "metadata": {},
   "outputs": [],
   "source": [
    "import pandas as pd\n",
    "df = pd.read_csv('oidv7-train-annotations-point-labels.csv', usecols=['Label'])"
   ]
  },
  {
   "cell_type": "code",
   "execution_count": null,
   "id": "9b8a69ab-e3df-4df0-b69c-2d9091c613db",
   "metadata": {},
   "outputs": [],
   "source": [
    "counts = df.Label.value_counts()\n",
    "counts = {code_to_classname[x]: y for x, y in dict(counts).items()}\n",
    "pd.DataFrame({'class': counts.keys(), 'count': counts.values()}) \\\n",
    "    .to_csv('point_annotations_class_counts.csv')"
   ]
  },
  {
   "cell_type": "code",
   "execution_count": null,
   "id": "2d219167-ee29-4c7a-8a55-c527fed81692",
   "metadata": {},
   "outputs": [],
   "source": [
    "for i in range(10):\n",
    "  url = f'https://storage.googleapis.com/localized-narratives/annotations/open_images_train_v6_localized_narratives-{i:05d}-of-00010.jsonl'\n",
    "  !wget {url}"
   ]
  },
  {
   "cell_type": "code",
   "execution_count": null,
   "id": "6c7a4a32-6213-4121-8e11-dc5de00a16a7",
   "metadata": {},
   "outputs": [],
   "source": [
    "captions = []\n",
    "from tqdm import tqdm\n",
    "import json\n",
    "\n",
    "for i in range(10):\n",
    "  filename = f'open_images_train_v6_localized_narratives-{i:05d}-of-00010.jsonl'\n",
    "  with open(filename) as file:\n",
    "    for line in tqdm(file):\n",
    "      captions.append(json.loads(line.rstrip())['caption'])"
   ]
  },
  {
   "cell_type": "code",
   "execution_count": null,
   "id": "3b82ee39-bbf7-4dab-acfb-fb303e5334d8",
   "metadata": {},
   "outputs": [],
   "source": [
    "import pandas as pd\n",
    "pd.DataFrame({'Text': pd.Series(captions)}).to_csv('narratives.csv')"
   ]
  },
  {
   "cell_type": "code",
   "execution_count": null,
   "id": "8e796e84-3faf-43bb-a408-be626144b4ca",
   "metadata": {},
   "outputs": [],
   "source": [
    "# now posting narratives to Solr search engine"
   ]
  },
  {
   "cell_type": "code",
   "execution_count": 15,
   "id": "8b55c992-3ba0-4f11-8139-1752bd43d677",
   "metadata": {},
   "outputs": [],
   "source": [
    "!cp -r ../../xmls/simple_text_search /var/solr/data/open_images_narratives"
   ]
  },
  {
   "cell_type": "code",
   "execution_count": 16,
   "id": "25b0d188-36e6-4859-bab4-4f54186ab454",
   "metadata": {},
   "outputs": [
    {
     "name": "stdout",
     "output_type": "stream",
     "text": [
      "{\n",
      "        \"responseHeader\":{\n",
      "          \"status\":0,\n",
      "          \"QTime\":1475\n",
      "        },\n",
      "        \"core\":\"open_images_narratives\"\n",
      "      }"
     ]
    }
   ],
   "source": [
    "!curl \"http://localhost:8983/solr/admin/cores?action=CREATE&name=open_images_narratives\""
   ]
  },
  {
   "cell_type": "code",
   "execution_count": 17,
   "id": "a9fee025-eedb-4b88-8254-7ff971e59e98",
   "metadata": {},
   "outputs": [
    {
     "name": "stdout",
     "output_type": "stream",
     "text": [
      "java -classpath /opt/solr/server/solr-webapp/webapp/WEB-INF/lib/solr-core-9.3.0.jar -Dauto=yes -Dc=open_images_narratives -Ddata=files org.apache.solr.cli.SimplePostTool narratives.csv\n",
      "SimplePostTool version 5.0.0\n",
      "Posting files to [base] url http://localhost:8983/solr/open_images_narratives/update...\n",
      "Entering auto mode. File endings considered are xml,json,jsonl,csv,pdf,doc,docx,ppt,pptx,xls,xlsx,odt,odp,ods,ott,otp,ots,rtf,htm,html,txt,log\n",
      "POSTing file narratives.csv (text/csv) to [base]\n",
      "1 files indexed.\n",
      "COMMITting Solr index changes to http://localhost:8983/solr/open_images_narratives/update...\n",
      "Time spent: 0:00:34.641\n"
     ]
    }
   ],
   "source": [
    "%%bash\n",
    "/opt/solr/bin/post -c open_images_narratives narratives.csv"
   ]
  },
  {
   "cell_type": "code",
   "execution_count": 19,
   "id": "ce62a938-644a-49d4-9b44-4eb1f730cccb",
   "metadata": {},
   "outputs": [
    {
     "name": "stderr",
     "output_type": "stream",
     "text": [
      "  % Total    % Received % Xferd  Average Speed   Time    Time     Time  Current\n",
      "                                 Dload  Upload   Total   Spent    Left  Speed\n",
      "100  1256  100  1256    0     0   2089      0 --:--:-- --:--:-- --:--:--  2089\n"
     ]
    },
    {
     "name": "stdout",
     "output_type": "stream",
     "text": [
      "{\n",
      "        \"responseHeader\":{\n",
      "          \"status\":0,\n",
      "          \"QTime\":301,\n",
      "          \"params\":{\n",
      "            \"q\":\"badger\",\n",
      "            \"defType\":\"edismax\",\n",
      "            \"df\":\"Text\",\n",
      "            \"start\":\"0\",\n",
      "            \"rows\":\"10\"\n",
      "          }\n",
      "        },\n",
      "        \"response\":{\n",
      "          \"numFound\":3,\n",
      "          \"start\":0,\n",
      "          \"numFoundExact\":true,\n",
      "          \"docs\":[{\n",
      "            \"Text\":[\"In this picture we can see badger on the grass.\"],\n",
      "            \"id\":\"660ec566-4a11-4ee2-8222-2b6b00840a2e\",\n",
      "            \"Unnamed__0\":[344856],\n",
      "            \"_version_\":1775460401492787207\n",
      "          },{\n",
      "            \"Text\":[\"In this image we can see a badger on the land. On the backside we can see a wall.\"],\n",
      "            \"id\":\"c6a6b033-9751-4acf-b5d5-f244541652d5\",\n",
      "            \"Unnamed__0\":[32722],\n",
      "            \"_version_\":1775460384967229447\n",
      "          },{\n",
      "            \"Text\":[\"In this image I can see the toys which are in black, red, blue and yellow color. These are on the ash color surface. In the background I can see the black image. And there is a name minty badger is written on the image.\"],\n",
      "            \"id\":\"ff7d1e13-7182-4e00-94e1-c89a5bb166f9\",\n",
      "            \"Unnamed__0\":[296490],\n",
      "            \"_version_\":1775460397829062681\n",
      "          }]\n",
      "        }\n",
      "      }"
     ]
    }
   ],
   "source": [
    "%%bash\n",
    "curl \"http://localhost:8983/solr/open_images_narratives/select?defType=edismax&df=Text&q=badger&start=0&rows=10\""
   ]
  },
  {
   "cell_type": "code",
   "execution_count": null,
   "id": "6156d322-fefd-4ff4-b9b2-2bb1b782386c",
   "metadata": {},
   "outputs": [],
   "source": []
  }
 ],
 "metadata": {
  "kernelspec": {
   "display_name": "Python 3 (ipykernel)",
   "language": "python",
   "name": "python3"
  },
  "language_info": {
   "codemirror_mode": {
    "name": "ipython",
    "version": 3
   },
   "file_extension": ".py",
   "mimetype": "text/x-python",
   "name": "python",
   "nbconvert_exporter": "python",
   "pygments_lexer": "ipython3",
   "version": "3.8.10"
  }
 },
 "nbformat": 4,
 "nbformat_minor": 5
}
