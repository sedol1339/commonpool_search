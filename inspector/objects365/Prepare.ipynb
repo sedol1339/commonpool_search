{
 "cells": [
  {
   "cell_type": "code",
   "execution_count": null,
   "id": "9f94790d",
   "metadata": {},
   "outputs": [],
   "source": [
    "!wget https://dorc.ks3-cn-beijing.ksyun.com/data-set/2020Objects365%E6%95%B0%E6%8D%AE%E9%9B%86/train/zhiyuan_objv2_train.tar.gz"
   ]
  },
  {
   "cell_type": "code",
   "execution_count": 2,
   "id": "dc2fc79d",
   "metadata": {},
   "outputs": [
    {
     "name": "stdout",
     "output_type": "stream",
     "text": [
      "zhiyuan_objv2_train.json\r\n"
     ]
    }
   ],
   "source": [
    "!tar -xvf zhiyuan_objv2_train.tar.gz"
   ]
  },
  {
   "cell_type": "code",
   "execution_count": 3,
   "id": "8025506c",
   "metadata": {},
   "outputs": [],
   "source": [
    "import json\n",
    "with open('zhiyuan_objv2_train.json') as h:\n",
    "    obj365 = json.load(h)"
   ]
  },
  {
   "cell_type": "code",
   "execution_count": 4,
   "id": "5e2e2cd0",
   "metadata": {},
   "outputs": [],
   "source": [
    "from collections import Counter\n",
    "class_counts = Counter()\n",
    "\n",
    "for ann in obj365['annotations']:\n",
    "    class_counts[ann['category_id']] += 1"
   ]
  },
  {
   "cell_type": "code",
   "execution_count": 6,
   "id": "dda750bd",
   "metadata": {},
   "outputs": [],
   "source": [
    "del obj365['annotations']\n",
    "del obj365['images']"
   ]
  },
  {
   "cell_type": "code",
   "execution_count": 7,
   "id": "e3d55a20",
   "metadata": {},
   "outputs": [],
   "source": [
    "for cat_dict in obj365['categories']:\n",
    "    cat_dict['instances'] = class_counts[cat_dict['id']]"
   ]
  },
  {
   "cell_type": "code",
   "execution_count": null,
   "id": "27bc1e06",
   "metadata": {},
   "outputs": [],
   "source": [
    "import pandas as pd\n",
    "df = pd.DataFrame(obj365['categories']).rename(\n",
    "    columns={'instances': 'count'}\n",
    ").set_index('id')"
   ]
  },
  {
   "cell_type": "code",
   "execution_count": 14,
   "id": "8258ce78",
   "metadata": {},
   "outputs": [],
   "source": [
    "df.to_csv('category_counts.csv')"
   ]
  },
  {
   "cell_type": "code",
   "execution_count": null,
   "id": "6b96b877",
   "metadata": {},
   "outputs": [],
   "source": []
  }
 ],
 "metadata": {
  "kernelspec": {
   "display_name": "Python 3 (ipykernel)",
   "language": "python",
   "name": "python3"
  },
  "language_info": {
   "codemirror_mode": {
    "name": "ipython",
    "version": 3
   },
   "file_extension": ".py",
   "mimetype": "text/x-python",
   "name": "python",
   "nbconvert_exporter": "python",
   "pygments_lexer": "ipython3",
   "version": "3.8.10"
  }
 },
 "nbformat": 4,
 "nbformat_minor": 5
}
