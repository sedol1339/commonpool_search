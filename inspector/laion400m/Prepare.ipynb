{
 "cells": [
  {
   "cell_type": "code",
   "execution_count": null,
   "id": "b9023dcb-5ea9-40eb-bc66-942490a3556f",
   "metadata": {},
   "outputs": [],
   "source": [
    "# laion400m\n",
    "!wget https://deploy.laion.ai/8f83b608504d46bb81708ec86e912220/dataset/part-00000-5b54c5d5-bbcf-484d-a2ce-0d6f73df1a36-c000.snappy.parquet"
   ]
  },
  {
   "cell_type": "code",
   "execution_count": null,
   "id": "4b6eede5-c5e7-4db6-b003-525960467e6f",
   "metadata": {},
   "outputs": [],
   "source": [
    "import pandas as pd\n",
    "df = pd.read_parquet('part-00000-5b54c5d5-bbcf-484d-a2ce-0d6f73df1a36-c000.snappy.parquet', engine='pyarrow')"
   ]
  },
  {
   "cell_type": "code",
   "execution_count": null,
   "id": "95da58e0-d08d-4223-a125-0ad000842841",
   "metadata": {},
   "outputs": [],
   "source": [
    "df.rename(\n",
    "    columns={'TEXT': 'Text'}\n",
    ")[['Text']].to_csv('laion400m_texts.csv')"
   ]
  },
  {
   "cell_type": "code",
   "execution_count": null,
   "id": "258fac48-7117-48ad-bb82-cff9f8004289",
   "metadata": {},
   "outputs": [],
   "source": [
    "i = 0\n",
    "step = 1000*1000\n",
    "while len(df) > i:\n",
    "    print(i)\n",
    "    df_part = df.iloc[i:i+step]\n",
    "    df_part.to_csv(f'laion400m_texts_{i}.csv')\n",
    "    i += step"
   ]
  },
  {
   "cell_type": "code",
   "execution_count": 22,
   "id": "00da7044-6c49-425e-8e86-fdf42d82b641",
   "metadata": {},
   "outputs": [],
   "source": [
    "!cp -r ../../xmls/simple_text_search /var/solr/data/laion400m_subset"
   ]
  },
  {
   "cell_type": "code",
   "execution_count": 23,
   "id": "13d3a5fd-b3c5-46a6-9e53-9f55c02e6c08",
   "metadata": {},
   "outputs": [
    {
     "name": "stdout",
     "output_type": "stream",
     "text": [
      "{\n",
      "  \"responseHeader\":{\n",
      "    \"status\":0,\n",
      "    \"QTime\":396\n",
      "  },\n",
      "  \"core\":\"laion400m_subset\"\n",
      "}"
     ]
    }
   ],
   "source": [
    "!curl \"http://localhost:8983/solr/admin/cores?action=CREATE&name=laion400m_subset\""
   ]
  },
  {
   "cell_type": "code",
   "execution_count": null,
   "id": "7cec7b94-f845-4057-a13b-fd3b9bd96d3a",
   "metadata": {},
   "outputs": [],
   "source": [
    "i = 0\n",
    "step = 1000*1000\n",
    "while len(df) > i:\n",
    "    cmd = f'/opt/solr/bin/post -c laion400m_subset laion400m_texts_{i}.csv'\n",
    "    print(cmd)\n",
    "    !{cmd}\n",
    "    i += step"
   ]
  },
  {
   "cell_type": "code",
   "execution_count": 27,
   "id": "86b2b9c0-fe46-44c9-8cfc-11b97c84ceb0",
   "metadata": {},
   "outputs": [
    {
     "name": "stderr",
     "output_type": "stream",
     "text": [
      "  % Total    % Received % Xferd  Average Speed   Time    Time     Time  Current\n",
      "                                 Dload  Upload   Total   Spent    Left  Speed\n",
      "100  1685  100  1685    0     0   1248      0  0:00:01  0:00:01 --:--:--  1249\n"
     ]
    },
    {
     "name": "stdout",
     "output_type": "stream",
     "text": [
      "{\n",
      "  \"responseHeader\":{\n",
      "    \"status\":0,\n",
      "    \"QTime\":1069,\n",
      "    \"params\":{\n",
      "      \"q\":\"badger\",\n",
      "      \"defType\":\"edismax\",\n",
      "      \"df\":\"Text\",\n",
      "      \"start\":\"0\",\n",
      "      \"rows\":\"10\"\n",
      "    }\n",
      "  },\n",
      "  \"response\":{\n",
      "    \"numFound\":1419,\n",
      "    \"start\":0,\n",
      "    \"numFoundExact\":true,\n",
      "    \"docs\":[{\n",
      "      \"Text\":[\"honey badger honey badger honey badger apron\"],\n",
      "      \"id\":\"b5ee3222-b838-4368-9977-69fa978af5f8\",\n",
      "      \"_version_\":1775463131178336260\n",
      "    },{\n",
      "      \"Text\":[\"Badger | Badger Hook Hooded Sweatshirt\"],\n",
      "      \"id\":\"cf78ab74-b633-4113-84fd-f4a9b0cbec39\",\n",
      "      \"_version_\":1775463229437247525\n",
      "    },{\n",
      "      \"Text\":[\"The Badger Inn: Badger Bar\"],\n",
      "      \"id\":\"3d75910f-8c7b-4b82-a1c2-884584fff94a\",\n",
      "      \"_version_\":1775463408345284631\n",
      "    },{\n",
      "      \"Text\":[\"Badger\"],\n",
      "      \"id\":\"09c78693-9083-428e-bf5c-2fca45d29d52\",\n",
      "      \"_version_\":1775463265600536616\n",
      "    },{\n",
      "      \"Text\":[\"badger\"],\n",
      "      \"id\":\"e809ae6f-8d27-469f-8488-d52030dff487\",\n",
      "      \"_version_\":1775463677682516001\n",
      "    },{\n",
      "      \"Text\":[\"Badger Cull : European badger (Meles meles)\"],\n",
      "      \"id\":\"9f3e8374-e1cc-46d1-bd56-3a1882b5589b\",\n",
      "      \"_version_\":1775463475384942635\n",
      "    },{\n",
      "      \"Text\":[\"Badger Foot Balm 2 oz. 25001 (Badger)\"],\n",
      "      \"id\":\"f42dcc51-5dcf-476c-9976-e9955d728158\",\n",
      "      \"_version_\":1775463315726663718\n",
      "    },{\n",
      "      \"Text\":[\"Badger Bonanza!\"],\n",
      "      \"id\":\"5d8bf378-ee38-46ef-b0a0-37424f355d95\",\n",
      "      \"_version_\":1775463259500970037\n",
      "    },{\n",
      "      \"Text\":[\"Watercolour badger\"],\n",
      "      \"id\":\"3d70d8e9-9dd0-4105-b288-24348f498244\",\n",
      "      \"_version_\":1775463260725706786\n",
      "    },{\n",
      "      \"Text\":[\"Badger-logo\"],\n",
      "      \"id\":\"5f2b88d9-e552-49d8-89a9-c356a54506de\",\n",
      "      \"_version_\":1775463261299277869\n",
      "    }]\n",
      "  }\n",
      "}"
     ]
    }
   ],
   "source": [
    "%%bash\n",
    "curl \"http://localhost:8983/solr/laion400m_subset/select?defType=edismax&df=Text&q=badger&start=0&rows=10\""
   ]
  },
  {
   "cell_type": "code",
   "execution_count": null,
   "id": "76f4bd30-223c-4fa9-ac46-af8a9da6856e",
   "metadata": {},
   "outputs": [],
   "source": []
  }
 ],
 "metadata": {
  "kernelspec": {
   "display_name": "Python 3 (ipykernel)",
   "language": "python",
   "name": "python3"
  },
  "language_info": {
   "codemirror_mode": {
    "name": "ipython",
    "version": 3
   },
   "file_extension": ".py",
   "mimetype": "text/x-python",
   "name": "python",
   "nbconvert_exporter": "python",
   "pygments_lexer": "ipython3",
   "version": "3.8.10"
  }
 },
 "nbformat": 4,
 "nbformat_minor": 5
}
