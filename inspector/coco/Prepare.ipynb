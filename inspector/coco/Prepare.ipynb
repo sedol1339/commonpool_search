{
 "cells": [
  {
   "cell_type": "code",
   "execution_count": null,
   "id": "3c89261c-3aed-4af5-b0eb-95a200e6f6e5",
   "metadata": {},
   "outputs": [],
   "source": [
    "!wget http://images.cocodataset.org/annotations/annotations_trainval2017.zip"
   ]
  },
  {
   "cell_type": "code",
   "execution_count": null,
   "id": "a148effa-d3e8-41db-a911-e8cc662d6433",
   "metadata": {},
   "outputs": [],
   "source": [
    "!unzip annotations_trainval2017.zip"
   ]
  },
  {
   "cell_type": "code",
   "execution_count": null,
   "id": "5d858d10-13ef-4779-ba1d-c8f826199192",
   "metadata": {},
   "outputs": [],
   "source": [
    "import json\n",
    "with open('annotations/instances_train2017.json') as h:\n",
    "    coco = json.load(h)"
   ]
  },
  {
   "cell_type": "code",
   "execution_count": null,
   "id": "7e5f4568-3857-413b-9d9c-1c2b48b92620",
   "metadata": {},
   "outputs": [],
   "source": [
    "from collections import Counter\n",
    "class_counts = Counter()\n",
    "\n",
    "for ann in coco['annotations']:\n",
    "  class_counts[ann['category_id']] += 1"
   ]
  },
  {
   "cell_type": "code",
   "execution_count": null,
   "id": "ba9dcf22-2ca8-4129-bce3-7d2e9f417ec7",
   "metadata": {},
   "outputs": [],
   "source": [
    "del coco['annotations']\n",
    "del coco['images']"
   ]
  },
  {
   "cell_type": "code",
   "execution_count": null,
   "id": "7b337b3d-40ba-4856-a306-f2a0d7733521",
   "metadata": {},
   "outputs": [],
   "source": [
    "for cat_dict in coco['categories']:\n",
    "  cat_dict['instances'] = class_counts[cat_dict['id']]"
   ]
  },
  {
   "cell_type": "code",
   "execution_count": null,
   "id": "f983aa38-e45d-4676-b720-a020467ff6ba",
   "metadata": {},
   "outputs": [],
   "source": [
    "with open('coco_instances_train2017_cleaned.json', 'w') as h:\n",
    "    json.dump(coco, h)"
   ]
  },
  {
   "cell_type": "code",
   "execution_count": null,
   "id": "31353c87-8632-460f-9872-0c4ba70360db",
   "metadata": {},
   "outputs": [],
   "source": [
    "import json\n",
    "with open('coco_instances_train2017_cleaned.json') as h:\n",
    "    coco = json.load(h)"
   ]
  },
  {
   "cell_type": "code",
   "execution_count": null,
   "id": "2c5452b6-1f53-43e2-9420-9b92fc345abd",
   "metadata": {},
   "outputs": [],
   "source": [
    "import pandas as pd\n",
    "df = pd.DataFrame(coco['categories'])"
   ]
  },
  {
   "cell_type": "code",
   "execution_count": 8,
   "id": "b79c1d50-fdfa-42e9-927d-daff30c75450",
   "metadata": {},
   "outputs": [],
   "source": [
    "df[['name', 'instances']].rename(\n",
    "    columns={'name': 'category', 'instances': 'count'}) \\\n",
    ".to_csv('category_counts.csv')"
   ]
  }
 ],
 "metadata": {
  "kernelspec": {
   "display_name": "Python 3 (ipykernel)",
   "language": "python",
   "name": "python3"
  },
  "language_info": {
   "codemirror_mode": {
    "name": "ipython",
    "version": 3
   },
   "file_extension": ".py",
   "mimetype": "text/x-python",
   "name": "python",
   "nbconvert_exporter": "python",
   "pygments_lexer": "ipython3",
   "version": "3.8.10"
  }
 },
 "nbformat": 4,
 "nbformat_minor": 5
}
