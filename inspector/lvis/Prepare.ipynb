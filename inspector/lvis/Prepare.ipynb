{
 "cells": [
  {
   "cell_type": "code",
   "execution_count": null,
   "id": "93547adf-de0c-458d-aa6c-efafc1754b72",
   "metadata": {},
   "outputs": [],
   "source": [
    "!wget https://dl.fbaipublicfiles.com/LVIS/lvis_v1_train.json.zip"
   ]
  },
  {
   "cell_type": "code",
   "execution_count": null,
   "id": "538b57e6-09e2-4b26-a885-d717fa1eedee",
   "metadata": {},
   "outputs": [],
   "source": [
    "!unzip lvis_v1_train.json.zip"
   ]
  },
  {
   "cell_type": "code",
   "execution_count": null,
   "id": "c1da3319-dd67-45fe-8ccf-14eaec868439",
   "metadata": {},
   "outputs": [],
   "source": [
    "import json\n",
    "with open('lvis_v1_train.json') as h:\n",
    "    lvis = json.load(h)"
   ]
  },
  {
   "cell_type": "code",
   "execution_count": null,
   "id": "b4a0ae1c-d087-4575-a375-e26a3ef4dc48",
   "metadata": {},
   "outputs": [],
   "source": [
    "del lvis['annotations']\n",
    "del lvis['images']"
   ]
  },
  {
   "cell_type": "code",
   "execution_count": null,
   "id": "aa8cbb60-6592-47c5-a50f-7a67b4bfa226",
   "metadata": {},
   "outputs": [],
   "source": [
    "with open('lvis_v1_train_cleaned.json', 'w') as h:\n",
    "    json.dump(lvis, h)"
   ]
  },
  {
   "cell_type": "code",
   "execution_count": 1,
   "id": "d432b621-547b-4ebc-8579-aae821169bbf",
   "metadata": {},
   "outputs": [],
   "source": [
    "import json\n",
    "with open('lvis_v1_train_cleaned.json') as h:\n",
    "    lvis = json.load(h)"
   ]
  },
  {
   "cell_type": "code",
   "execution_count": null,
   "id": "2878219c-b94e-45bf-b874-2c1ee9cbbb1e",
   "metadata": {},
   "outputs": [],
   "source": [
    "import pandas as pd\n",
    "df = pd.DataFrame(lvis['categories'])"
   ]
  },
  {
   "cell_type": "code",
   "execution_count": 9,
   "id": "7eee2ab7-79ac-4f32-88ae-69ee8b54a9bf",
   "metadata": {},
   "outputs": [],
   "source": [
    "df[['name', 'instance_count']].rename(\n",
    "    columns={'name': 'category', 'instance_count': 'count'}\n",
    ").to_csv('category_counts.csv')"
   ]
  }
 ],
 "metadata": {
  "kernelspec": {
   "display_name": "Python 3 (ipykernel)",
   "language": "python",
   "name": "python3"
  },
  "language_info": {
   "codemirror_mode": {
    "name": "ipython",
    "version": 3
   },
   "file_extension": ".py",
   "mimetype": "text/x-python",
   "name": "python",
   "nbconvert_exporter": "python",
   "pygments_lexer": "ipython3",
   "version": "3.8.10"
  }
 },
 "nbformat": 4,
 "nbformat_minor": 5
}
