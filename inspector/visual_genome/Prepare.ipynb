{
 "cells": [
  {
   "cell_type": "code",
   "execution_count": null,
   "id": "67cc2872-5b9c-415f-bc89-32a6a6542521",
   "metadata": {},
   "outputs": [],
   "source": [
    "!pip install datasets"
   ]
  },
  {
   "cell_type": "code",
   "execution_count": null,
   "id": "7507f369-d646-49aa-8a04-3f29f22e1b5a",
   "metadata": {},
   "outputs": [],
   "source": [
    "from datasets import load_dataset\n",
    "dataset = load_dataset(\"visual_genome\", \"objects_v1.2.0\")"
   ]
  },
  {
   "cell_type": "code",
   "execution_count": null,
   "id": "7f9af493-0aa9-45e9-b2e7-e984ea6df211",
   "metadata": {},
   "outputs": [],
   "source": [
    "from tqdm.notebook import tqdm\n",
    "instances = []\n",
    "\n",
    "for row in tqdm(dataset['train']):\n",
    "  for obj in row['objects']:\n",
    "    instances.append(', '.join(obj['names'] + obj['synsets']))"
   ]
  },
  {
   "cell_type": "code",
   "execution_count": null,
   "id": "6c06fb37-00fe-4d8d-803f-4ff215aaaa5d",
   "metadata": {},
   "outputs": [],
   "source": [
    "del dataset"
   ]
  },
  {
   "cell_type": "code",
   "execution_count": null,
   "id": "ecfb8450-ebe0-44cc-929c-2f583302c643",
   "metadata": {},
   "outputs": [],
   "source": [
    "from datasets import load_dataset\n",
    "dataset2 = load_dataset(\"visual_genome\", \"region_descriptions_v1.2.0\")"
   ]
  },
  {
   "cell_type": "code",
   "execution_count": null,
   "id": "ae424ae9-fb79-4078-9542-7c4e2154b75d",
   "metadata": {},
   "outputs": [],
   "source": [
    "instances_detailed = []\n",
    "\n",
    "for row in tqdm(dataset2['train']):\n",
    "  for region in row['regions']:\n",
    "    instances_detailed.append(region['phrase'])"
   ]
  },
  {
   "cell_type": "code",
   "execution_count": null,
   "id": "42b2d1c1-921c-450f-9abb-e32c09a90d8f",
   "metadata": {},
   "outputs": [],
   "source": [
    "import pandas as pd\n",
    "df = pd.DataFrame({'Text': [x.replace(',', ';') for x in instances + instances_detailed]})"
   ]
  },
  {
   "cell_type": "code",
   "execution_count": null,
   "id": "2eae7a98-5a5e-4d38-90c8-f268cabdbe41",
   "metadata": {},
   "outputs": [],
   "source": [
    "df.Text = df.Text.str.replace(r'[^a-zA-Z0-9\\s;\\.]+', '', regex=True)"
   ]
  },
  {
   "cell_type": "code",
   "execution_count": null,
   "id": "0468f881-9180-4125-891d-26f94fa4cf5a",
   "metadata": {},
   "outputs": [],
   "source": [
    "df.index.name = 'id'"
   ]
  },
  {
   "cell_type": "code",
   "execution_count": null,
   "id": "d4b7f8e1-f961-4c21-be27-afa1be29785e",
   "metadata": {},
   "outputs": [],
   "source": [
    "df.to_csv('instances.csv', sep=',')"
   ]
  },
  {
   "cell_type": "code",
   "execution_count": null,
   "id": "526b8582-e4c1-4757-89d3-361b28a00555",
   "metadata": {},
   "outputs": [],
   "source": [
    "# now posting texts to Solr search engine"
   ]
  },
  {
   "cell_type": "code",
   "execution_count": 8,
   "id": "9475d052-1d34-46b8-bfb3-926d6c43e51a",
   "metadata": {},
   "outputs": [],
   "source": [
    "!cp -r ../../xmls/simple_text_search /var/solr/data/visual_genome"
   ]
  },
  {
   "cell_type": "code",
   "execution_count": 9,
   "id": "4cbee402-5bc8-4bf6-aed6-91f5b6e1dee6",
   "metadata": {},
   "outputs": [
    {
     "name": "stdout",
     "output_type": "stream",
     "text": [
      "{\n",
      "        \"responseHeader\":{\n",
      "          \"status\":0,\n",
      "          \"QTime\":652\n",
      "        },\n",
      "        \"core\":\"visual_genome\"\n",
      "      }"
     ]
    }
   ],
   "source": [
    "!curl \"http://localhost:8983/solr/admin/cores?action=CREATE&name=visual_genome\""
   ]
  },
  {
   "cell_type": "code",
   "execution_count": 10,
   "id": "a110b571-dff2-49e6-afec-3f97229cb193",
   "metadata": {},
   "outputs": [
    {
     "name": "stdout",
     "output_type": "stream",
     "text": [
      "java -classpath /opt/solr/server/solr-webapp/webapp/WEB-INF/lib/solr-core-9.3.0.jar -Dauto=yes -Dc=visual_genome -Ddata=files org.apache.solr.cli.SimplePostTool instances.csv\n",
      "SimplePostTool version 5.0.0\n",
      "Posting files to [base] url http://localhost:8983/solr/visual_genome/update...\n",
      "Entering auto mode. File endings considered are xml,json,jsonl,csv,pdf,doc,docx,ppt,pptx,xls,xlsx,odt,odp,ods,ott,otp,ots,rtf,htm,html,txt,log\n",
      "POSTing file instances.csv (text/csv) to [base]\n",
      "1 files indexed.\n",
      "COMMITting Solr index changes to http://localhost:8983/solr/visual_genome/update...\n",
      "Time spent: 0:04:19.132\n"
     ]
    }
   ],
   "source": [
    "%%bash\n",
    "/opt/solr/bin/post -c visual_genome instances.csv"
   ]
  },
  {
   "cell_type": "code",
   "execution_count": 11,
   "id": "a104266f-0f98-486f-b0dd-ca98e0a395cf",
   "metadata": {},
   "outputs": [
    {
     "name": "stderr",
     "output_type": "stream",
     "text": [
      "  % Total    % Received % Xferd  Average Speed   Time    Time     Time  Current\n",
      "                                 Dload  Upload   Total   Spent    Left  Speed\n",
      "100  1716  100  1716    0     0   3142      0 --:--:-- --:--:-- --:--:--  3137\n"
     ]
    },
    {
     "name": "stdout",
     "output_type": "stream",
     "text": [
      "{\n",
      "        \"responseHeader\":{\n",
      "          \"status\":0,\n",
      "          \"QTime\":391,\n",
      "          \"params\":{\n",
      "            \"q\":\"badger\",\n",
      "            \"defType\":\"edismax\",\n",
      "            \"df\":\"Text\",\n",
      "            \"start\":\"0\",\n",
      "            \"rows\":\"10\"\n",
      "          }\n",
      "        },\n",
      "        \"response\":{\n",
      "          \"numFound\":20,\n",
      "          \"start\":0,\n",
      "          \"numFoundExact\":true,\n",
      "          \"docs\":[{\n",
      "            \"id\":\"588577\",\n",
      "            \"Text\":[\"badger murphy\"],\n",
      "            \"_version_\":1775460751895429184\n",
      "          },{\n",
      "            \"id\":\"467096\",\n",
      "            \"Text\":[\"badger; wisconsinite.n.01\"],\n",
      "            \"_version_\":1775460749509918770\n",
      "          },{\n",
      "            \"id\":\"467098\",\n",
      "            \"Text\":[\"badger; wisconsinite.n.01\"],\n",
      "            \"_version_\":1775460749509918772\n",
      "          },{\n",
      "            \"id\":\"467104\",\n",
      "            \"Text\":[\"badger; wisconsinite.n.01\"],\n",
      "            \"_version_\":1775460749509918778\n",
      "          },{\n",
      "            \"id\":\"614461\",\n",
      "            \"Text\":[\"badger; wisconsinite.n.01\"],\n",
      "            \"_version_\":1775460752338976813\n",
      "          },{\n",
      "            \"id\":\"3264235\",\n",
      "            \"Text\":[\"badger; wisconsinite.n.01\"],\n",
      "            \"_version_\":1775460819736199229\n",
      "          },{\n",
      "            \"id\":\"4650793\",\n",
      "            \"Text\":[\"Badger has long claws\"],\n",
      "            \"_version_\":1775460859356643389\n",
      "          },{\n",
      "            \"id\":\"4650794\",\n",
      "            \"Text\":[\"honey badger has snout\"],\n",
      "            \"_version_\":1775460859356643390\n",
      "          },{\n",
      "            \"id\":\"4910533\",\n",
      "            \"Text\":[\"black an white badger\"],\n",
      "            \"_version_\":1775460866844524550\n",
      "          },{\n",
      "            \"id\":\"467094\",\n",
      "            \"Text\":[\"honey badger; ratel.n.01\"],\n",
      "            \"_version_\":1775460749509918768\n",
      "          }]\n",
      "        }\n",
      "      }"
     ]
    }
   ],
   "source": [
    "%%bash\n",
    "curl \"http://localhost:8983/solr/visual_genome/select?defType=edismax&df=Text&q=badger&start=0&rows=10\""
   ]
  },
  {
   "cell_type": "code",
   "execution_count": null,
   "id": "fe05d7a2-cd32-411b-8917-a6071bc73af5",
   "metadata": {},
   "outputs": [],
   "source": []
  }
 ],
 "metadata": {
  "kernelspec": {
   "display_name": "Python 3 (ipykernel)",
   "language": "python",
   "name": "python3"
  },
  "language_info": {
   "codemirror_mode": {
    "name": "ipython",
    "version": 3
   },
   "file_extension": ".py",
   "mimetype": "text/x-python",
   "name": "python",
   "nbconvert_exporter": "python",
   "pygments_lexer": "ipython3",
   "version": "3.8.10"
  }
 },
 "nbformat": 4,
 "nbformat_minor": 5
}
