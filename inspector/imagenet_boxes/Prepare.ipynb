{
 "cells": [
  {
   "cell_type": "code",
   "execution_count": 1,
   "id": "93383ac4-d6cb-4ba4-8814-e87187fc705d",
   "metadata": {},
   "outputs": [],
   "source": [
    "!rm -rf annos\n",
    "!mkdir annos"
   ]
  },
  {
   "cell_type": "code",
   "execution_count": 2,
   "id": "58190ea5-0bf2-4078-bedb-ca9e4b8369f9",
   "metadata": {},
   "outputs": [
    {
     "name": "stdout",
     "output_type": "stream",
     "text": [
      "/home/osedukhin/commonpool_search/datasets/imagenet_boxes/annos\n"
     ]
    }
   ],
   "source": [
    "%cd annos"
   ]
  },
  {
   "cell_type": "code",
   "execution_count": null,
   "id": "7e5ca714-abba-4dc7-a3d4-11e717e3e5e8",
   "metadata": {},
   "outputs": [],
   "source": [
    "!wget https://image-net.org/data/bboxes_annotations.tar.gz"
   ]
  },
  {
   "cell_type": "code",
   "execution_count": null,
   "id": "6553d352-6f7b-408a-9aa2-a771d83ca352",
   "metadata": {},
   "outputs": [],
   "source": [
    "!tar -xvf bboxes_annotations.tar.gz"
   ]
  },
  {
   "cell_type": "code",
   "execution_count": 5,
   "id": "15c87389-261b-4064-9de4-d5dd95508eb3",
   "metadata": {},
   "outputs": [],
   "source": [
    "!rm bboxes_annotations.tar.gz"
   ]
  },
  {
   "cell_type": "code",
   "execution_count": 6,
   "id": "6a99906f-f95f-4d91-bd15-51ad3eda9fc4",
   "metadata": {},
   "outputs": [],
   "source": [
    "%%bash\n",
    "for f in *.tar.gz; do tar xf \"$f\"; done"
   ]
  },
  {
   "cell_type": "code",
   "execution_count": 7,
   "id": "3ff1b095-5eab-4e9c-a1e8-a0ae5a3e2110",
   "metadata": {},
   "outputs": [],
   "source": [
    "!rm *.tar.gz"
   ]
  },
  {
   "cell_type": "code",
   "execution_count": 10,
   "id": "38cade26-c1d8-415f-9379-248eeedb690f",
   "metadata": {},
   "outputs": [
    {
     "name": "stderr",
     "output_type": "stream",
     "text": [
      "100%|███████████████████████████████| 1073739/1073739 [12:15<00:00, 1459.92it/s]\n"
     ]
    }
   ],
   "source": [
    "from pathlib import Path\n",
    "import xml.etree.ElementTree as ET\n",
    "from tqdm import tqdm\n",
    "from collections import Counter\n",
    "\n",
    "instances = Counter()\n",
    "\n",
    "for xml_path in tqdm(list(Path('Annotation').glob('*/*.xml'))):\n",
    "    root = ET.parse(xml_path).getroot()\n",
    "    for obj in root.findall('object'):\n",
    "        codename = obj.findall('name')[0].text\n",
    "        # classname = imagenet_codename_to_classname[codename]\n",
    "        instances[codename] += 1"
   ]
  },
  {
   "cell_type": "code",
   "execution_count": null,
   "id": "e7836661-cd3f-486c-b746-c04f6d438092",
   "metadata": {},
   "outputs": [],
   "source": [
    "!wget https://storage.googleapis.com/bit_models/imagenet21k_wordnet_ids.txt\n",
    "!wget https://storage.googleapis.com/bit_models/imagenet21k_wordnet_lemmas.txt"
   ]
  },
  {
   "cell_type": "code",
   "execution_count": 13,
   "id": "1f4e1c44-b8db-488e-9841-460d8f8a977d",
   "metadata": {},
   "outputs": [],
   "source": [
    "imagenet_classes = dict(zip(\n",
    "    open('imagenet21k_wordnet_ids.txt').read().split('\\n'),\n",
    "    open('imagenet21k_wordnet_lemmas.txt').read().split('\\n')\n",
    "))"
   ]
  },
  {
   "cell_type": "code",
   "execution_count": 17,
   "id": "6bd26491-f3e1-455b-9484-6f7c93d944e2",
   "metadata": {},
   "outputs": [],
   "source": [
    "instances = {\n",
    "    imagenet_classes[code] if code in imagenet_classes else code: count\n",
    "    for code, count in instances.items()\n",
    "}"
   ]
  },
  {
   "cell_type": "code",
   "execution_count": 19,
   "id": "f5433841-02d7-457d-9721-d0714321f5a7",
   "metadata": {},
   "outputs": [],
   "source": [
    "import pandas as pd\n",
    "df = pd.DataFrame({'category': instances.keys(), 'count': instances.values()})"
   ]
  },
  {
   "cell_type": "code",
   "execution_count": 22,
   "id": "eaab3972-77b8-4ab5-809c-18626ca1b24a",
   "metadata": {},
   "outputs": [],
   "source": [
    "df.to_csv('../category_counts.csv')"
   ]
  },
  {
   "cell_type": "code",
   "execution_count": 26,
   "id": "44663399-4cda-4ca7-82b7-5f81bbecc20c",
   "metadata": {},
   "outputs": [
    {
     "name": "stdout",
     "output_type": "stream",
     "text": [
      "/home/osedukhin/commonpool_search/datasets/imagenet_boxes\n"
     ]
    }
   ],
   "source": [
    "%cd ..\n",
    "!rm -r annos"
   ]
  }
 ],
 "metadata": {
  "kernelspec": {
   "display_name": "Python 3 (ipykernel)",
   "language": "python",
   "name": "python3"
  },
  "language_info": {
   "codemirror_mode": {
    "name": "ipython",
    "version": 3
   },
   "file_extension": ".py",
   "mimetype": "text/x-python",
   "name": "python",
   "nbconvert_exporter": "python",
   "pygments_lexer": "ipython3",
   "version": "3.8.10"
  }
 },
 "nbformat": 4,
 "nbformat_minor": 5
}
