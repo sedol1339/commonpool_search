{
 "cells": [
  {
   "cell_type": "code",
   "execution_count": null,
   "id": "3f51bab1-23ae-44f8-b7ae-afaf88772247",
   "metadata": {},
   "outputs": [],
   "source": [
    "!wget https://huggingface.co/datasets/laion/laion-coco/resolve/main/part-00000-2256f782-126f-4dc6-b9c6-e6757637749d-c000.snappy.parquet"
   ]
  },
  {
   "cell_type": "code",
   "execution_count": null,
   "id": "9a854d0d-20dd-4278-b06f-ee75595945ef",
   "metadata": {},
   "outputs": [],
   "source": [
    "import pandas as pd\n",
    "df = pd.read_parquet('part-00000-2256f782-126f-4dc6-b9c6-e6757637749d-c000.snappy.parquet', engine='pyarrow')"
   ]
  },
  {
   "cell_type": "code",
   "execution_count": null,
   "id": "a53ec52d-55b9-48f6-b968-158c39848133",
   "metadata": {},
   "outputs": [],
   "source": [
    "df.rename(\n",
    "    columns={'top_caption': 'Text'}\n",
    ")[['Text']].to_csv('laion_coco_texts.csv')"
   ]
  },
  {
   "cell_type": "code",
   "execution_count": 5,
   "id": "7cec7b94-f845-4057-a13b-fd3b9bd96d3a",
   "metadata": {},
   "outputs": [],
   "source": [
    "!cp -r ../../xmls/simple_text_search /var/solr/data/laion_coco"
   ]
  },
  {
   "cell_type": "code",
   "execution_count": 6,
   "id": "aa9c7c65-fe2f-457c-b2ca-48f70603ef04",
   "metadata": {},
   "outputs": [
    {
     "name": "stdout",
     "output_type": "stream",
     "text": [
      "{\n",
      "        \"responseHeader\":{\n",
      "          \"status\":0,\n",
      "          \"QTime\":3707\n",
      "        },\n",
      "        \"core\":\"laion_coco\"\n",
      "      }"
     ]
    }
   ],
   "source": [
    "!curl \"http://localhost:8983/solr/admin/cores?action=CREATE&name=laion_coco\""
   ]
  },
  {
   "cell_type": "code",
   "execution_count": null,
   "id": "122af3c3-20be-4ee5-a5c9-ffacba7532ca",
   "metadata": {},
   "outputs": [],
   "source": [
    "%%bash\n",
    "/opt/solr/bin/post -c laion_coco laion_coco_texts.csv"
   ]
  },
  {
   "cell_type": "code",
   "execution_count": 2,
   "id": "8f0136d8-e393-4755-b824-fcb153fd2877",
   "metadata": {},
   "outputs": [
    {
     "name": "stderr",
     "output_type": "stream",
     "text": [
      "  % Total    % Received % Xferd  Average Speed   Time    Time     Time  Current\n",
      "                                 Dload  Upload   Total   Spent    Left  Speed\n",
      "100  1714  100  1714    0     0  41804      0 --:--:-- --:--:-- --:--:-- 40809\n"
     ]
    },
    {
     "name": "stdout",
     "output_type": "stream",
     "text": [
      "{\n",
      "  \"responseHeader\":{\n",
      "    \"status\":0,\n",
      "    \"QTime\":3,\n",
      "    \"params\":{\n",
      "      \"q\":\"badger\",\n",
      "      \"defType\":\"edismax\",\n",
      "      \"df\":\"Text\",\n",
      "      \"start\":\"0\",\n",
      "      \"rows\":\"10\"\n",
      "    }\n",
      "  },\n",
      "  \"response\":{\n",
      "    \"numFound\":165,\n",
      "    \"start\":0,\n",
      "    \"numFoundExact\":true,\n",
      "    \"docs\":[{\n",
      "      \"Text\":[\"Badger SPF 35.\"],\n",
      "      \"id\":\"2b95d312-a8a7-458f-bf02-36fe9dd6cfb2\",\n",
      "      \"_version_\":1775463786430332953\n",
      "    },{\n",
      "      \"Text\":[\"Badger SPF 30.\"],\n",
      "      \"id\":\"569fc7e2-57b4-435a-8bac-9470f71373c8\",\n",
      "      \"_version_\":1775463790690697235\n",
      "    },{\n",
      "      \"Text\":[\"A honey badger sweatshirt with the words honey badger.\"],\n",
      "      \"id\":\"3f5c3e53-a857-4b37-a741-65c746dbdf02\",\n",
      "      \"_version_\":1775463789700841482\n",
      "    },{\n",
      "      \"Text\":[\"Badger Mountain South logo.\"],\n",
      "      \"id\":\"d8ba0695-ff23-427d-9590-4b3375c48f66\",\n",
      "      \"_version_\":1775463860350746637\n",
      "    },{\n",
      "      \"Text\":[\"The badger game poster.\"],\n",
      "      \"id\":\"3e2c5d3d-2296-4b5e-b8a2-0c306cb30e16\",\n",
      "      \"_version_\":1775463896315854868\n",
      "    },{\n",
      "      \"Text\":[\"badger ordnance scope rings.\"],\n",
      "      \"id\":\"43300cae-94d0-4e99-9f30-fc82be0a04bf\",\n",
      "      \"_version_\":1775463915097948177\n",
      "    },{\n",
      "      \"Text\":[\"badger and the great journey.\"],\n",
      "      \"id\":\"d58a09a4-2b6d-44df-9f51-177a54fc12b8\",\n",
      "      \"_version_\":1775463782161580082\n",
      "    },{\n",
      "      \"Text\":[\"A badger 500 garbage disposaler.\"],\n",
      "      \"id\":\"4485ca57-fe97-463b-b264-2ec6b53f12b2\",\n",
      "      \"_version_\":1775463765108588588\n",
      "    },{\n",
      "      \"Text\":[\"badger aloe vera face wash.\"],\n",
      "      \"id\":\"a2e42a2c-05e6-4e7c-a319-dcc179957055\",\n",
      "      \"_version_\":1775463768226005026\n",
      "    },{\n",
      "      \"Text\":[\"The Wild badger brewery logo.\"],\n",
      "      \"id\":\"7764cbdd-f891-49dd-9408-28f2d1828733\",\n",
      "      \"_version_\":1775463840634372134\n",
      "    }]\n",
      "  }\n",
      "}"
     ]
    }
   ],
   "source": [
    "%%bash\n",
    "curl \"http://localhost:8983/solr/laion_coco/select?defType=edismax&df=Text&q=badger&start=0&rows=10\""
   ]
  },
  {
   "cell_type": "code",
   "execution_count": null,
   "id": "aa6805b5-befe-44b0-b54a-e6a12b0657d9",
   "metadata": {},
   "outputs": [],
   "source": []
  }
 ],
 "metadata": {
  "kernelspec": {
   "display_name": "Python 3 (ipykernel)",
   "language": "python",
   "name": "python3"
  },
  "language_info": {
   "codemirror_mode": {
    "name": "ipython",
    "version": 3
   },
   "file_extension": ".py",
   "mimetype": "text/x-python",
   "name": "python",
   "nbconvert_exporter": "python",
   "pygments_lexer": "ipython3",
   "version": "3.8.10"
  }
 },
 "nbformat": 4,
 "nbformat_minor": 5
}
