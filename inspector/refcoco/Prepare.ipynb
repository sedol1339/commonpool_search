{
 "cells": [
  {
   "cell_type": "code",
   "execution_count": 15,
   "id": "70beae0a-6526-4cc2-9521-2c2772e7903a",
   "metadata": {},
   "outputs": [
    {
     "name": "stdout",
     "output_type": "stream",
     "text": [
      "--2023-08-30 10:47:50--  https://bvisionweb1.cs.unc.edu/licheng/referit/data/refcoco.zip\n",
      "Resolving bvisionweb1.cs.unc.edu (bvisionweb1.cs.unc.edu)... 152.2.123.122\n",
      "Connecting to bvisionweb1.cs.unc.edu (bvisionweb1.cs.unc.edu)|152.2.123.122|:443... connected.\n",
      "HTTP request sent, awaiting response... 200 OK\n",
      "Length: 53993993 (51M) [application/zip]\n",
      "Saving to: 'refcoco.zip'\n",
      "\n",
      "refcoco.zip         100%[===================>]  51.49M  1.06MB/s    in 50s     \n",
      "\n",
      "2023-08-30 10:48:41 (1.03 MB/s) - 'refcoco.zip' saved [53993993/53993993]\n",
      "\n"
     ]
    }
   ],
   "source": [
    "!wget https://bvisionweb1.cs.unc.edu/licheng/referit/data/refcoco.zip"
   ]
  },
  {
   "cell_type": "code",
   "execution_count": null,
   "id": "3fd32a8c-353c-4fe2-86e7-0653b46df6fb",
   "metadata": {},
   "outputs": [],
   "source": [
    "!unzip refcoco.zip"
   ]
  },
  {
   "cell_type": "code",
   "execution_count": 46,
   "id": "f1bf4e6b-64a9-46ea-8e30-d0feda346b34",
   "metadata": {},
   "outputs": [],
   "source": [
    "import pickle\n",
    "import pandas as pd\n",
    "\n",
    "with open('refcoco/refs(unc).p', 'rb') as h:\n",
    "    refcoco = pickle.load(h)"
   ]
  },
  {
   "cell_type": "code",
   "execution_count": null,
   "id": "ea49b895-b9b5-44f2-bbf5-f4ea2fbb136c",
   "metadata": {},
   "outputs": [],
   "source": [
    "!rm -r refcoco\n",
    "!rm refcoco.zip"
   ]
  },
  {
   "cell_type": "code",
   "execution_count": 48,
   "id": "7c71bb93-2fef-4fb2-81b6-188974a2c11b",
   "metadata": {},
   "outputs": [],
   "source": [
    "texts = []\n",
    "\n",
    "for ann in refcoco:\n",
    "    for sentence in ann['sentences']:\n",
    "        texts.append(sentence['sent'])\n",
    "\n",
    "df = pd.DataFrame({'Text':texts})\n",
    "\n",
    "df.to_csv('instances.csv', sep=',')"
   ]
  },
  {
   "cell_type": "code",
   "execution_count": 49,
   "id": "3bd936f3-9705-480f-8786-c7faab0861a4",
   "metadata": {},
   "outputs": [],
   "source": [
    "# now posting texts to Solr search engine"
   ]
  },
  {
   "cell_type": "code",
   "execution_count": 50,
   "id": "1ba77af4-3469-465e-8839-ebde3c4fb1cf",
   "metadata": {},
   "outputs": [],
   "source": [
    "!cp -r ../../xmls/simple_text_search /var/solr/data/refcoco"
   ]
  },
  {
   "cell_type": "code",
   "execution_count": 51,
   "id": "d02a2115-747c-41fb-bc1e-d935c1370ebf",
   "metadata": {},
   "outputs": [
    {
     "name": "stdout",
     "output_type": "stream",
     "text": [
      "{\n",
      "      \"responseHeader\":{\n",
      "        \"status\":0,\n",
      "        \"QTime\":3036\n",
      "      },\n",
      "      \"core\":\"refcoco\"\n",
      "    }"
     ]
    }
   ],
   "source": [
    "!curl \"http://localhost:8983/solr/admin/cores?action=CREATE&name=refcoco\""
   ]
  },
  {
   "cell_type": "code",
   "execution_count": 52,
   "id": "a1611709-acf9-4b32-a77d-36c208006178",
   "metadata": {},
   "outputs": [
    {
     "name": "stdout",
     "output_type": "stream",
     "text": [
      "java -classpath /opt/solr/server/solr-webapp/webapp/WEB-INF/lib/solr-core-9.3.0.jar -Dauto=yes -Dc=refcoco -Ddata=files org.apache.solr.cli.SimplePostTool instances.csv\n",
      "SimplePostTool version 5.0.0\n",
      "Posting files to [base] url http://localhost:8983/solr/refcoco/update...\n",
      "Entering auto mode. File endings considered are xml,json,jsonl,csv,pdf,doc,docx,ppt,pptx,xls,xlsx,odt,odp,ods,ott,otp,ots,rtf,htm,html,txt,log\n",
      "POSTing file instances.csv (text/csv) to [base]\n",
      "1 files indexed.\n",
      "COMMITting Solr index changes to http://localhost:8983/solr/refcoco/update...\n",
      "Time spent: 0:00:05.992\n"
     ]
    }
   ],
   "source": [
    "%%bash\n",
    "/opt/solr/bin/post -c refcoco instances.csv"
   ]
  },
  {
   "cell_type": "code",
   "execution_count": 54,
   "id": "54534bad-1fca-4886-9166-4324b438d808",
   "metadata": {},
   "outputs": [
    {
     "name": "stderr",
     "output_type": "stream",
     "text": [
      "  % Total    % Received % Xferd  Average Speed   Time    Time     Time  Current\n",
      "                                 Dload  Upload   Total   Spent    Left  Speed\n",
      "100  1787  100  1787    0     0   6743      0 --:--:-- --:--:-- --:--:--  6743\n"
     ]
    },
    {
     "name": "stdout",
     "output_type": "stream",
     "text": [
      "{\n",
      "      \"responseHeader\":{\n",
      "        \"status\":0,\n",
      "        \"QTime\":139,\n",
      "        \"params\":{\n",
      "          \"q\":\"panda\",\n",
      "          \"defType\":\"edismax\",\n",
      "          \"df\":\"Text\",\n",
      "          \"start\":\"0\",\n",
      "          \"rows\":\"10\"\n",
      "        }\n",
      "      },\n",
      "      \"response\":{\n",
      "        \"numFound\":22,\n",
      "        \"start\":0,\n",
      "        \"numFoundExact\":true,\n",
      "        \"docs\":[{\n",
      "          \"Text\":[\"panda\"],\n",
      "          \"id\":\"60dd3449-78a8-489b-ad0c-61b5b3afaa9a\",\n",
      "          \"_version_\":1775640200561557564\n",
      "        },{\n",
      "          \"Text\":[\"left panda\"],\n",
      "          \"id\":\"68f73dee-a636-4010-abb7-f0619fcb5dcb\",\n",
      "          \"_version_\":1775640198394150913\n",
      "        },{\n",
      "          \"Text\":[\"center panda\"],\n",
      "          \"id\":\"1d4f3801-12bc-40ad-a932-8188f1bd42e3\",\n",
      "          \"_version_\":1775640198394150914\n",
      "        },{\n",
      "          \"Text\":[\"center panda\"],\n",
      "          \"id\":\"fd9e67d3-ca2b-4d76-ba7c-8fdf478ce5c3\",\n",
      "          \"_version_\":1775640198394150916\n",
      "        },{\n",
      "          \"Text\":[\"right panda\"],\n",
      "          \"id\":\"c96999e0-c2dc-4b48-bf50-0e41f1a371b8\",\n",
      "          \"_version_\":1775640199548633144\n",
      "        },{\n",
      "          \"Text\":[\"panda left\"],\n",
      "          \"id\":\"43643152-c16b-48eb-942b-5849dd00e2f0\",\n",
      "          \"_version_\":1775640199548633146\n",
      "        },{\n",
      "          \"Text\":[\"the panda\"],\n",
      "          \"id\":\"d7acaaa7-acf9-4112-b3d1-87fdc437f606\",\n",
      "          \"_version_\":1775640200561557566\n",
      "        },{\n",
      "          \"Text\":[\"right bottom panda\"],\n",
      "          \"id\":\"44f1c466-e665-40df-b434-cd529e9aac09\",\n",
      "          \"_version_\":1775640198393102391\n",
      "        },{\n",
      "          \"Text\":[\"far left panda\"],\n",
      "          \"id\":\"25b36f06-4e42-4226-933e-df356f677e09\",\n",
      "          \"_version_\":1775640198393102394\n",
      "        },{\n",
      "          \"Text\":[\"chair below panda\"],\n",
      "          \"id\":\"604d672c-b94c-4cf2-9e70-9f0b98839d66\",\n",
      "          \"_version_\":1775640199141785606\n",
      "        }]\n",
      "      }\n",
      "    }"
     ]
    }
   ],
   "source": [
    "%%bash\n",
    "curl \"http://localhost:8983/solr/refcoco/select?defType=edismax&df=Text&q=panda&start=0&rows=10\""
   ]
  },
  {
   "cell_type": "code",
   "execution_count": null,
   "id": "4e650b0c-24ae-4100-9520-2d238bf76d43",
   "metadata": {},
   "outputs": [],
   "source": []
  }
 ],
 "metadata": {
  "kernelspec": {
   "display_name": "Python 3 (ipykernel)",
   "language": "python",
   "name": "python3"
  },
  "language_info": {
   "codemirror_mode": {
    "name": "ipython",
    "version": 3
   },
   "file_extension": ".py",
   "mimetype": "text/x-python",
   "name": "python",
   "nbconvert_exporter": "python",
   "pygments_lexer": "ipython3",
   "version": "3.8.10"
  }
 },
 "nbformat": 4,
 "nbformat_minor": 5
}
